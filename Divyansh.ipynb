{
 "cells": [
  {
   "metadata": {},
   "cell_type": "code",
   "source": [
    "from faker import Faker\n",
    "import numpy as np\n",
    "import pandas as pd\n",
    "import random as rd\n",
    "from lib import analyze, fabricate"
   ],
   "id": "9445b11b686df803",
   "outputs": [],
   "execution_count": null
  },
  {
   "metadata": {},
   "cell_type": "code",
   "source": [
    "n = 10000 # data-points\n",
    "datafield = \"VPN Usage\"\n",
    "fake = Faker('en_IN') # Faker instance\n",
    "Faker.seed(42)\n",
    "np.random.seed(42)\n",
    "rd.seed(42)"
   ],
   "id": "b04fcb25bf2699df",
   "outputs": [],
   "execution_count": null
  },
  {
   "metadata": {},
   "cell_type": "code",
   "source": "vpn_stat = (8, 4)",
   "id": "3580b128ff4aa6e5",
   "outputs": [],
   "execution_count": null
  },
  {
   "metadata": {},
   "cell_type": "code",
   "source": [
    "df = fabricate.fabricate_base_data()\n",
    "df[datafield] = fabricate.create_positive_norm_distribution(vpn_stat, 2, 0.05)"
   ],
   "id": "e5f344e901227e71",
   "outputs": [],
   "execution_count": null
  },
  {
   "metadata": {},
   "cell_type": "code",
   "source": "df.head(100)",
   "id": "4d3442fe5139dedd",
   "outputs": [],
   "execution_count": null
  },
  {
   "metadata": {},
   "cell_type": "code",
   "source": "analyze.analyze_dataframe(df)",
   "id": "c5d81909ef6f087a",
   "outputs": [],
   "execution_count": null
  },
  {
   "metadata": {},
   "cell_type": "code",
   "source": "df.to_csv(f'data/Fabricated Data - {datafield}.csv', index = False)",
   "id": "9c3af689a7aa3b29",
   "outputs": [],
   "execution_count": null
  },
  {
   "metadata": {},
   "cell_type": "code",
   "source": [
    "# Step 1: Base identity data\n",
    "df = fabricate.fabricate_base_data()\n",
    "\n",
    "# Step 2: Define stats for the 3 correlated features\n",
    "# Format: (mean, std, min, max)\n",
    "stats_list = [\n",
    "    (4, 1.5, 0, 10),    # VPN usage in hours\n",
    "    (1, 0.5, 0, 1),     # Antivirus subscription (0=no, 1=yes)\n",
    "    (2, 1, 0, 5)        # SIM changes per year\n",
    "]\n",
    "\n",
    "# Step 3: Define correlation matrix\n",
    "correlation_matrix = [\n",
    "    [1.0, 0.4, 0.5],  # VPN with others\n",
    "    [0.4, 1.0, 0.3],  # Antivirus with others\n",
    "    [0.5, 0.3, 1.0]   # SIM changes with others\n",
    "]\n",
    "\n",
    "# Step 4: Generate correlated data\n",
    "correlated_features = fabricate.create_correlated_norm_distribution(\n",
    "    stats_list=stats_list,\n",
    "    correlation_matrix=correlation_matrix,\n",
    "    n=len(df),\n",
    "    precision=2,\n",
    "    nan_probability=0.05\n",
    ")\n",
    "\n",
    "# Step 5: Add correlated columns to df\n",
    "df[[\"VPN Usage Hours\", \"Antivirus Subscribed\", \"SIM Changes\"]] = correlated_features\n",
    "\n",
    "print(df.head())\n",
    "df.to_csv(f'data/Fabricated Data - {datafield}.csv', index = False)\n"
   ],
   "id": "347e7bf37f2d89f5",
   "outputs": [],
   "execution_count": null
  },
  {
   "metadata": {},
   "cell_type": "code",
   "source": "analyze.analyze_dataframe(df)",
   "id": "4aaa3f1ba7281e7c",
   "outputs": [],
   "execution_count": null
  },
  {
   "metadata": {},
   "cell_type": "code",
   "source": "",
   "id": "54be1ea964c38d9b",
   "outputs": [],
   "execution_count": null
  }
 ],
 "metadata": {
  "kernelspec": {
   "display_name": "Python 3",
   "language": "python",
   "name": "python3"
  },
  "language_info": {
   "codemirror_mode": {
    "name": "ipython",
    "version": 2
   },
   "file_extension": ".py",
   "mimetype": "text/x-python",
   "name": "python",
   "nbconvert_exporter": "python",
   "pygments_lexer": "ipython2",
   "version": "2.7.6"
  }
 },
 "nbformat": 4,
 "nbformat_minor": 5
}
