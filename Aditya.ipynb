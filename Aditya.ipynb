{
 "cells": [
  {
   "cell_type": "code",
   "id": "initial_id",
   "metadata": {
    "collapsed": true
   },
   "source": [
    "import pandas as pd\n",
    "import numpy as np\n",
    "from faker import Faker\n",
    "import random"
   ],
   "outputs": [],
   "execution_count": null
  },
  {
   "metadata": {},
   "cell_type": "code",
   "source": [
    "fake = Faker()\n",
    "Faker.seed(42)"
   ],
   "id": "83127b8fc610a32e",
   "outputs": [],
   "execution_count": null
  },
  {
   "metadata": {},
   "cell_type": "code",
   "source": [
    "num_records = 10000\n",
    "accounts_stats = (4, 2)"
   ],
   "id": "8c4fe898fcb06abf",
   "outputs": [],
   "execution_count": null
  },
  {
   "metadata": {},
   "cell_type": "code",
   "source": [
    "def generate_num_accounts(age, income, experience, risk, knowledge, net_worth):\n",
    "    base = 0  # Updated to allow zero as starting point\n",
    "    if income > 100000:\n",
    "        base += random.randint(0, 3)  # Adjusted to include 0\n",
    "    if age > 50:\n",
    "        base += random.randint(0, 2)\n",
    "    if experience > 10:\n",
    "        base += random.randint(0, 4)\n",
    "    if risk == 'High':\n",
    "        base += random.randint(0, 2)\n",
    "    if knowledge == 'Advanced':\n",
    "        base += random.randint(0, 2)\n",
    "    if net_worth > 500000:\n",
    "        base += random.randint(0, 3)\n",
    "    accounts = base + random.randint(0, 1)\n",
    "    return min(accounts, max_accounts)"
   ],
   "id": "166cdb7cc5d3aa5b",
   "outputs": [],
   "execution_count": null
  },
  {
   "metadata": {},
   "cell_type": "code",
   "source": [
    "data = []\n",
    "for _ in range(num_records):\n",
    "    age = random.randint(18, 80)\n",
    "    income = random.randint(20000, 500000)\n",
    "    net_worth = random.randint(600, 10000000)\n",
    "    experience = random.randint(0, 40)\n",
    "    risk_tolerance = random.choice(['Low', 'Medium', 'High'])\n",
    "    investment_knowledge = random.choice(['Beginner', 'Intermediate', 'Advanced'])\n",
    "    education_level = random.choice(['High School', 'Bachelor\\'s', 'Master\\'s', 'PhD'])\n",
    "    employment_status = random.choice(['Employed', 'Self-employed', 'Unemployed', 'Retired'])\n",
    "\n",
    "    num_accounts = generate_num_accounts(age, income, experience, risk_tolerance, investment_knowledge, net_worth)\n",
    "\n",
    "    data.append({\n",
    "        'person_id': fake.uuid4(),\n",
    "        'name': fake.name(),\n",
    "        'age': age,\n",
    "        'income': income,\n",
    "        'education_level': education_level,\n",
    "        'employment_status': employment_status,\n",
    "        'years_experience_trading': experience,\n",
    "        'risk_tolerance': risk_tolerance,\n",
    "        'investment_knowledge': investment_knowledge,\n",
    "        'net_worth': net_worth,\n",
    "        'city': fake.city(),\n",
    "        'country': fake.country(),\n",
    "        'num_trading_accounts': num_accounts\n",
    "    })"
   ],
   "id": "5d642536c64e98c1",
   "outputs": [],
   "execution_count": null
  },
  {
   "metadata": {},
   "cell_type": "code",
   "source": [
    "df = pd.DataFrame(data)\n",
    "df.to_csv('trading_accounts_dataset_updated.csv', index=False)"
   ],
   "id": "4f7917de16a16db8",
   "outputs": [],
   "execution_count": null
  }
 ],
 "metadata": {
  "kernelspec": {
   "display_name": "Python 3",
   "language": "python",
   "name": "python3"
  },
  "language_info": {
   "codemirror_mode": {
    "name": "ipython",
    "version": 2
   },
   "file_extension": ".py",
   "mimetype": "text/x-python",
   "name": "python",
   "nbconvert_exporter": "python",
   "pygments_lexer": "ipython2",
   "version": "2.7.6"
  }
 },
 "nbformat": 4,
 "nbformat_minor": 5
}
