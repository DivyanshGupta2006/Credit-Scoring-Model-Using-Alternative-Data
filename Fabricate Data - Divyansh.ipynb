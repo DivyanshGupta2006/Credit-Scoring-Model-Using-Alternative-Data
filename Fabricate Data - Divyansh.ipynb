{
 "cells": [
  {
   "metadata": {
    "ExecuteTime": {
     "end_time": "2025-07-26T19:20:53.367506Z",
     "start_time": "2025-07-26T19:20:53.363409Z"
    }
   },
   "cell_type": "code",
   "source": [
    "from faker import Faker\n",
    "import numpy as np\n",
    "import pandas as pd\n",
    "import random as rd\n",
    "import matplotlib.pyplot as plt\n",
    "import seaborn as sns"
   ],
   "id": "9445b11b686df803",
   "outputs": [],
   "execution_count": 189
  },
  {
   "metadata": {
    "ExecuteTime": {
     "end_time": "2025-07-26T19:20:53.396066Z",
     "start_time": "2025-07-26T19:20:53.386481Z"
    }
   },
   "cell_type": "code",
   "source": [
    "n = 10000 # data-points\n",
    "datafield = \"VPN Usage\"\n",
    "fake = Faker() # Faker instance\n",
    "Faker.seed(42)\n",
    "np.random.seed(42)\n",
    "rd.seed(42)"
   ],
   "id": "b04fcb25bf2699df",
   "outputs": [],
   "execution_count": 190
  },
  {
   "metadata": {
    "ExecuteTime": {
     "end_time": "2025-07-26T19:20:53.417660Z",
     "start_time": "2025-07-26T19:20:53.414297Z"
    }
   },
   "cell_type": "code",
   "source": "vpn_stat = (8, 4)",
   "id": "3580b128ff4aa6e5",
   "outputs": [],
   "execution_count": 191
  },
  {
   "metadata": {
    "ExecuteTime": {
     "end_time": "2025-07-26T19:24:16.586046Z",
     "start_time": "2025-07-26T19:24:16.580500Z"
    }
   },
   "cell_type": "code",
   "source": [
    "def fabricate_base_data(num_rows=n, id_range=(10**11, 10**12-1) ,age_stats=(36.17, 12.68)):\n",
    "    data = []\n",
    "    aadhar = rd.sample(range(id_range[0], id_range[1] + 1), num_rows)\n",
    "    ages = np.random.normal(loc=age_stats[0], scale=age_stats[1], size=num_rows)\n",
    "    ages = np.clip(ages, 18, 65)  # keep within the bounds\n",
    "    ages = np.round(ages).astype(int)\n",
    "    for _ in range(num_rows):\n",
    "        aadhar_no = aadhar[_]\n",
    "        age = ages[_]\n",
    "        name = fake.name()\n",
    "        email = fake.email()\n",
    "        phone = fake.phone_number()\n",
    "        data.append([aadhar_no, name, age, email, phone])\n",
    "    df = pd.DataFrame(data, columns=['Aadhar No.', 'Name', 'Age', 'E-mail', 'Phone No.'])\n",
    "    df.set_index('Aadhar No.', inplace=True)\n",
    "    return df"
   ],
   "id": "6d5693d3f310270b",
   "outputs": [],
   "execution_count": 198
  },
  {
   "metadata": {
    "ExecuteTime": {
     "end_time": "2025-07-26T19:24:16.772253Z",
     "start_time": "2025-07-26T19:24:16.768484Z"
    }
   },
   "cell_type": "code",
   "source": [
    "def fabricate_vpn_usage(vpn_stats, num_rows=n, precision=2, nan_probability=0.05):\n",
    "    data = []\n",
    "    for _ in range(num_rows):\n",
    "        vpn_usage = np.random.normal(vpn_stats[0], vpn_stats[1])\n",
    "        vpn_usage = max(0, round(vpn_usage, precision))\n",
    "        if np.random.rand() < nan_probability:\n",
    "            vpn_usage = np.nan\n",
    "        data.append(vpn_usage)\n",
    "    return data"
   ],
   "id": "7cc1eecf4a921175",
   "outputs": [],
   "execution_count": 199
  },
  {
   "metadata": {
    "ExecuteTime": {
     "end_time": "2025-07-26T19:24:18.853658Z",
     "start_time": "2025-07-26T19:24:16.928129Z"
    }
   },
   "cell_type": "code",
   "source": [
    "df = fabricate_base_data()\n",
    "df[datafield] = fabricate_vpn_usage(vpn_stat)"
   ],
   "id": "e5f344e901227e71",
   "outputs": [],
   "execution_count": 200
  },
  {
   "metadata": {
    "ExecuteTime": {
     "end_time": "2025-07-26T19:24:18.917Z",
     "start_time": "2025-07-26T19:24:18.893786Z"
    }
   },
   "cell_type": "code",
   "source": "df",
   "id": "4d3442fe5139dedd",
   "outputs": [
    {
     "data": {
      "text/plain": [
       "                           Name  Age                       E-mail  \\\n",
       "Aadhar No.                                                          \n",
       "670577406348  Kristen Rodriguez   44          derek78@example.org   \n",
       "540581591865      Taylor Gordon   21          erika94@example.net   \n",
       "734054232680         Jon Peters   73     pearsoncraig@example.org   \n",
       "529407098278        Rebecca May   49          devin54@example.net   \n",
       "386675292107   Barbara Williams   43         ujohnson@example.net   \n",
       "...                         ...  ...                          ...   \n",
       "112512634478         Emily Cruz   27            wtate@example.org   \n",
       "226515786535      James Hartman   32  gardnerjennifer@example.com   \n",
       "363855739265    Matthew Gilbert   17    christopher53@example.com   \n",
       "715335644861        Mario Gomez   57  fitzpatrickerin@example.org   \n",
       "133476165039      Mary Carrillo   20   jennifermccann@example.org   \n",
       "\n",
       "                           Phone No.  VPN Usage  \n",
       "Aadhar No.                                       \n",
       "670577406348        454-860-4165x222       3.17  \n",
       "540581591865   +1-256-382-3575x85291      15.18  \n",
       "734054232680         +1-542-495-0791       7.48  \n",
       "529407098278         +1-370-700-6208       7.06  \n",
       "386675292107     (393)200-0838x51909       7.89  \n",
       "...                              ...        ...  \n",
       "112512634478       (204)718-2310x625       0.00  \n",
       "226515786535  001-472-484-8825x14445       8.40  \n",
       "363855739265           (266)743-2966       7.24  \n",
       "715335644861         +1-513-774-8391       1.63  \n",
       "133476165039     (900)906-1980x63755       6.44  \n",
       "\n",
       "[10000 rows x 5 columns]"
      ],
      "text/html": [
       "<div>\n",
       "<style scoped>\n",
       "    .dataframe tbody tr th:only-of-type {\n",
       "        vertical-align: middle;\n",
       "    }\n",
       "\n",
       "    .dataframe tbody tr th {\n",
       "        vertical-align: top;\n",
       "    }\n",
       "\n",
       "    .dataframe thead th {\n",
       "        text-align: right;\n",
       "    }\n",
       "</style>\n",
       "<table border=\"1\" class=\"dataframe\">\n",
       "  <thead>\n",
       "    <tr style=\"text-align: right;\">\n",
       "      <th></th>\n",
       "      <th>Name</th>\n",
       "      <th>Age</th>\n",
       "      <th>E-mail</th>\n",
       "      <th>Phone No.</th>\n",
       "      <th>VPN Usage</th>\n",
       "    </tr>\n",
       "    <tr>\n",
       "      <th>Aadhar No.</th>\n",
       "      <th></th>\n",
       "      <th></th>\n",
       "      <th></th>\n",
       "      <th></th>\n",
       "      <th></th>\n",
       "    </tr>\n",
       "  </thead>\n",
       "  <tbody>\n",
       "    <tr>\n",
       "      <th>670577406348</th>\n",
       "      <td>Kristen Rodriguez</td>\n",
       "      <td>44</td>\n",
       "      <td>derek78@example.org</td>\n",
       "      <td>454-860-4165x222</td>\n",
       "      <td>3.17</td>\n",
       "    </tr>\n",
       "    <tr>\n",
       "      <th>540581591865</th>\n",
       "      <td>Taylor Gordon</td>\n",
       "      <td>21</td>\n",
       "      <td>erika94@example.net</td>\n",
       "      <td>+1-256-382-3575x85291</td>\n",
       "      <td>15.18</td>\n",
       "    </tr>\n",
       "    <tr>\n",
       "      <th>734054232680</th>\n",
       "      <td>Jon Peters</td>\n",
       "      <td>73</td>\n",
       "      <td>pearsoncraig@example.org</td>\n",
       "      <td>+1-542-495-0791</td>\n",
       "      <td>7.48</td>\n",
       "    </tr>\n",
       "    <tr>\n",
       "      <th>529407098278</th>\n",
       "      <td>Rebecca May</td>\n",
       "      <td>49</td>\n",
       "      <td>devin54@example.net</td>\n",
       "      <td>+1-370-700-6208</td>\n",
       "      <td>7.06</td>\n",
       "    </tr>\n",
       "    <tr>\n",
       "      <th>386675292107</th>\n",
       "      <td>Barbara Williams</td>\n",
       "      <td>43</td>\n",
       "      <td>ujohnson@example.net</td>\n",
       "      <td>(393)200-0838x51909</td>\n",
       "      <td>7.89</td>\n",
       "    </tr>\n",
       "    <tr>\n",
       "      <th>...</th>\n",
       "      <td>...</td>\n",
       "      <td>...</td>\n",
       "      <td>...</td>\n",
       "      <td>...</td>\n",
       "      <td>...</td>\n",
       "    </tr>\n",
       "    <tr>\n",
       "      <th>112512634478</th>\n",
       "      <td>Emily Cruz</td>\n",
       "      <td>27</td>\n",
       "      <td>wtate@example.org</td>\n",
       "      <td>(204)718-2310x625</td>\n",
       "      <td>0.00</td>\n",
       "    </tr>\n",
       "    <tr>\n",
       "      <th>226515786535</th>\n",
       "      <td>James Hartman</td>\n",
       "      <td>32</td>\n",
       "      <td>gardnerjennifer@example.com</td>\n",
       "      <td>001-472-484-8825x14445</td>\n",
       "      <td>8.40</td>\n",
       "    </tr>\n",
       "    <tr>\n",
       "      <th>363855739265</th>\n",
       "      <td>Matthew Gilbert</td>\n",
       "      <td>17</td>\n",
       "      <td>christopher53@example.com</td>\n",
       "      <td>(266)743-2966</td>\n",
       "      <td>7.24</td>\n",
       "    </tr>\n",
       "    <tr>\n",
       "      <th>715335644861</th>\n",
       "      <td>Mario Gomez</td>\n",
       "      <td>57</td>\n",
       "      <td>fitzpatrickerin@example.org</td>\n",
       "      <td>+1-513-774-8391</td>\n",
       "      <td>1.63</td>\n",
       "    </tr>\n",
       "    <tr>\n",
       "      <th>133476165039</th>\n",
       "      <td>Mary Carrillo</td>\n",
       "      <td>20</td>\n",
       "      <td>jennifermccann@example.org</td>\n",
       "      <td>(900)906-1980x63755</td>\n",
       "      <td>6.44</td>\n",
       "    </tr>\n",
       "  </tbody>\n",
       "</table>\n",
       "<p>10000 rows × 5 columns</p>\n",
       "</div>"
      ]
     },
     "execution_count": 201,
     "metadata": {},
     "output_type": "execute_result"
    }
   ],
   "execution_count": 201
  },
  {
   "metadata": {
    "ExecuteTime": {
     "end_time": "2025-07-26T19:20:55.671797Z",
     "start_time": "2025-07-26T19:20:55.668447Z"
    }
   },
   "cell_type": "code",
   "source": [
    "def plot_heatmap(data, vmax):\n",
    "    plt.figure(figsize=(15,8))\n",
    "    sns.set(font_scale = 1.4)\n",
    "    sns.heatmap(data, cmap='Reds', annot=True, annot_kws={'size': 15}, vmax=vmax)\n",
    "    plt.show()"
   ],
   "id": "c5d81909ef6f087a",
   "outputs": [],
   "execution_count": 196
  },
  {
   "metadata": {
    "ExecuteTime": {
     "end_time": "2025-07-26T19:20:55.848525700Z",
     "start_time": "2025-07-26T18:41:31.128437Z"
    }
   },
   "cell_type": "code",
   "source": "df.to_csv(f'Fabricated Data - {datafield}.csv', index = False)",
   "id": "9c3af689a7aa3b29",
   "outputs": [],
   "execution_count": 176
  },
  {
   "metadata": {},
   "cell_type": "code",
   "outputs": [],
   "execution_count": null,
   "source": "",
   "id": "347e7bf37f2d89f5"
  }
 ],
 "metadata": {
  "kernelspec": {
   "display_name": "Python 3",
   "language": "python",
   "name": "python3"
  },
  "language_info": {
   "codemirror_mode": {
    "name": "ipython",
    "version": 2
   },
   "file_extension": ".py",
   "mimetype": "text/x-python",
   "name": "python",
   "nbconvert_exporter": "python",
   "pygments_lexer": "ipython2",
   "version": "2.7.6"
  }
 },
 "nbformat": 4,
 "nbformat_minor": 5
}
