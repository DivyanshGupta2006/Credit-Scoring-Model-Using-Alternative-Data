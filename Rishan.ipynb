{
 "cells": [
  {
   "cell_type": "code",
   "id": "initial_id",
   "metadata": {
    "collapsed": true,
    "ExecuteTime": {
     "end_time": "2025-07-26T17:57:06.421948Z",
     "start_time": "2025-07-26T17:57:06.417404Z"
    }
   },
   "source": [
    "import pandas as pd\n",
    "import numpy as np\n",
    "from faker import Faker"
   ],
   "outputs": [],
   "execution_count": 2
  },
  {
   "metadata": {
    "ExecuteTime": {
     "end_time": "2025-07-26T17:57:06.554010Z",
     "start_time": "2025-07-26T17:57:06.446357Z"
    }
   },
   "cell_type": "code",
   "source": [
    "fake = Faker()\n",
    "Faker.seed(42)"
   ],
   "id": "f329a36db27f503d",
   "outputs": [],
   "execution_count": 3
  },
  {
   "metadata": {
    "ExecuteTime": {
     "end_time": "2025-07-26T17:57:06.582361Z",
     "start_time": "2025-07-26T17:57:06.577485Z"
    }
   },
   "cell_type": "code",
   "source": [
    "n = 10000  # Number of synthetic users\n",
    "sim_changes_stats = (1.2, 0.8)"
   ],
   "id": "e4496ae508dcad33",
   "outputs": [],
   "execution_count": 4
  },
  {
   "metadata": {
    "ExecuteTime": {
     "end_time": "2025-07-26T17:57:58.858737Z",
     "start_time": "2025-07-26T17:57:57.525090Z"
    }
   },
   "cell_type": "code",
   "source": [
    "data = {\n",
    "    'user_id': [fake.uuid4() for _ in range(n)],\n",
    "    'name': [fake.name() for _ in range(n)],\n",
    "    'phone_number': [fake.phone_number() for _ in range(n)],\n",
    "\n",
    "    # Number of SIM changes in past year: normal distribution, clipped to non-negative integers\n",
    "    'sim_changes_past_year': np.clip(np.random.normal(sim_changes_stats[0], sim_changes_stats[1], n).round(), 0, None).astype(int)\n",
    "}"
   ],
   "id": "2e5c8912793362a6",
   "outputs": [],
   "execution_count": 6
  },
  {
   "metadata": {
    "ExecuteTime": {
     "end_time": "2025-07-26T17:58:05.832176Z",
     "start_time": "2025-07-26T17:58:05.823870Z"
    }
   },
   "cell_type": "code",
   "source": "df = pd.DataFrame(data)",
   "id": "a7060582438e98bc",
   "outputs": [],
   "execution_count": 7
  },
  {
   "metadata": {
    "ExecuteTime": {
     "end_time": "2025-07-26T17:58:07.693345Z",
     "start_time": "2025-07-26T17:58:07.674999Z"
    }
   },
   "cell_type": "code",
   "source": "df",
   "id": "711e3c191370963c",
   "outputs": [
    {
     "data": {
      "text/plain": [
       "                                   user_id                name  \\\n",
       "0     4f808e70-20fc-4b77-afd1-df6d6b6b4038     Michael Hensley   \n",
       "1     c4533495-fd55-49dd-abdb-646bc71032c6  Mrs. Lisa Choi DVM   \n",
       "2     1c34374f-4000-4fae-aead-da1f19b5f03c      James Campbell   \n",
       "3     748346ba-ae63-473c-bcd6-b0d17cd88f44          Jason Hall   \n",
       "4     f5c0529e-7265-41bd-87e6-ce4ae99dfede           Mark Wade   \n",
       "...                                    ...                 ...   \n",
       "9995  7625845b-0582-44d2-9b72-1148e7765edf      Victoria Ramos   \n",
       "9996  656e8c2a-6141-4e5d-acbc-d852842b7361        Timothy Hill   \n",
       "9997  d8f4fa46-e006-42d1-809b-9cc27c1da323         William Lee   \n",
       "9998  28cb9da1-61f0-41a9-948c-dda16bdea7bd         Maria Eaton   \n",
       "9999  d4a3e864-eaac-43de-851f-1535b5b620c3        Angela Smith   \n",
       "\n",
       "                phone_number  sim_changes_past_year  \n",
       "0     001-855-620-5636x14373                      1  \n",
       "1            +1-620-881-7737                      0  \n",
       "2            +1-424-581-7687                      0  \n",
       "3              (839)412-4985                      2  \n",
       "4           973.793.2264x776                      3  \n",
       "...                      ...                    ...  \n",
       "9995   001-333-207-9042x8639                      2  \n",
       "9996              8988542709                      0  \n",
       "9997      (847)576-7267x6019                      1  \n",
       "9998   +1-505-583-7192x32202                      2  \n",
       "9999            756.962.3546                      2  \n",
       "\n",
       "[10000 rows x 4 columns]"
      ],
      "text/html": [
       "<div>\n",
       "<style scoped>\n",
       "    .dataframe tbody tr th:only-of-type {\n",
       "        vertical-align: middle;\n",
       "    }\n",
       "\n",
       "    .dataframe tbody tr th {\n",
       "        vertical-align: top;\n",
       "    }\n",
       "\n",
       "    .dataframe thead th {\n",
       "        text-align: right;\n",
       "    }\n",
       "</style>\n",
       "<table border=\"1\" class=\"dataframe\">\n",
       "  <thead>\n",
       "    <tr style=\"text-align: right;\">\n",
       "      <th></th>\n",
       "      <th>user_id</th>\n",
       "      <th>name</th>\n",
       "      <th>phone_number</th>\n",
       "      <th>sim_changes_past_year</th>\n",
       "    </tr>\n",
       "  </thead>\n",
       "  <tbody>\n",
       "    <tr>\n",
       "      <th>0</th>\n",
       "      <td>4f808e70-20fc-4b77-afd1-df6d6b6b4038</td>\n",
       "      <td>Michael Hensley</td>\n",
       "      <td>001-855-620-5636x14373</td>\n",
       "      <td>1</td>\n",
       "    </tr>\n",
       "    <tr>\n",
       "      <th>1</th>\n",
       "      <td>c4533495-fd55-49dd-abdb-646bc71032c6</td>\n",
       "      <td>Mrs. Lisa Choi DVM</td>\n",
       "      <td>+1-620-881-7737</td>\n",
       "      <td>0</td>\n",
       "    </tr>\n",
       "    <tr>\n",
       "      <th>2</th>\n",
       "      <td>1c34374f-4000-4fae-aead-da1f19b5f03c</td>\n",
       "      <td>James Campbell</td>\n",
       "      <td>+1-424-581-7687</td>\n",
       "      <td>0</td>\n",
       "    </tr>\n",
       "    <tr>\n",
       "      <th>3</th>\n",
       "      <td>748346ba-ae63-473c-bcd6-b0d17cd88f44</td>\n",
       "      <td>Jason Hall</td>\n",
       "      <td>(839)412-4985</td>\n",
       "      <td>2</td>\n",
       "    </tr>\n",
       "    <tr>\n",
       "      <th>4</th>\n",
       "      <td>f5c0529e-7265-41bd-87e6-ce4ae99dfede</td>\n",
       "      <td>Mark Wade</td>\n",
       "      <td>973.793.2264x776</td>\n",
       "      <td>3</td>\n",
       "    </tr>\n",
       "    <tr>\n",
       "      <th>...</th>\n",
       "      <td>...</td>\n",
       "      <td>...</td>\n",
       "      <td>...</td>\n",
       "      <td>...</td>\n",
       "    </tr>\n",
       "    <tr>\n",
       "      <th>9995</th>\n",
       "      <td>7625845b-0582-44d2-9b72-1148e7765edf</td>\n",
       "      <td>Victoria Ramos</td>\n",
       "      <td>001-333-207-9042x8639</td>\n",
       "      <td>2</td>\n",
       "    </tr>\n",
       "    <tr>\n",
       "      <th>9996</th>\n",
       "      <td>656e8c2a-6141-4e5d-acbc-d852842b7361</td>\n",
       "      <td>Timothy Hill</td>\n",
       "      <td>8988542709</td>\n",
       "      <td>0</td>\n",
       "    </tr>\n",
       "    <tr>\n",
       "      <th>9997</th>\n",
       "      <td>d8f4fa46-e006-42d1-809b-9cc27c1da323</td>\n",
       "      <td>William Lee</td>\n",
       "      <td>(847)576-7267x6019</td>\n",
       "      <td>1</td>\n",
       "    </tr>\n",
       "    <tr>\n",
       "      <th>9998</th>\n",
       "      <td>28cb9da1-61f0-41a9-948c-dda16bdea7bd</td>\n",
       "      <td>Maria Eaton</td>\n",
       "      <td>+1-505-583-7192x32202</td>\n",
       "      <td>2</td>\n",
       "    </tr>\n",
       "    <tr>\n",
       "      <th>9999</th>\n",
       "      <td>d4a3e864-eaac-43de-851f-1535b5b620c3</td>\n",
       "      <td>Angela Smith</td>\n",
       "      <td>756.962.3546</td>\n",
       "      <td>2</td>\n",
       "    </tr>\n",
       "  </tbody>\n",
       "</table>\n",
       "<p>10000 rows × 4 columns</p>\n",
       "</div>"
      ]
     },
     "execution_count": 8,
     "metadata": {},
     "output_type": "execute_result"
    }
   ],
   "execution_count": 8
  },
  {
   "metadata": {
    "ExecuteTime": {
     "end_time": "2025-07-26T17:59:46.544290Z",
     "start_time": "2025-07-26T17:59:46.520799Z"
    }
   },
   "cell_type": "code",
   "source": "df.to_csv('Fabricated data - SIM changes.csv', index=False)",
   "id": "db06862a56eb537a",
   "outputs": [],
   "execution_count": 9
  },
  {
   "metadata": {},
   "cell_type": "code",
   "outputs": [],
   "execution_count": null,
   "source": "",
   "id": "2744c56691bad200"
  }
 ],
 "metadata": {
  "kernelspec": {
   "display_name": "Python 3",
   "language": "python",
   "name": "python3"
  },
  "language_info": {
   "codemirror_mode": {
    "name": "ipython",
    "version": 2
   },
   "file_extension": ".py",
   "mimetype": "text/x-python",
   "name": "python",
   "nbconvert_exporter": "python",
   "pygments_lexer": "ipython2",
   "version": "2.7.6"
  }
 },
 "nbformat": 4,
 "nbformat_minor": 5
}
