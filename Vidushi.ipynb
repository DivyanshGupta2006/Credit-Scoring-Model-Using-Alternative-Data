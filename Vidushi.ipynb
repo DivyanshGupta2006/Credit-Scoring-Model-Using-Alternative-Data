{
 "cells": [
  {
   "cell_type": "code",
   "id": "initial_id",
   "metadata": {
    "collapsed": true
   },
   "source": [
    "import pandas as pd\n",
    "import random\n",
    "import numpy as np\n",
    "from faker import Faker"
   ],
   "outputs": [],
   "execution_count": null
  },
  {
   "metadata": {},
   "cell_type": "code",
   "source": [
    "fake = Faker()\n",
    "Faker.seed(42)"
   ],
   "id": "3df5f7d78ad710f1",
   "outputs": [],
   "execution_count": null
  },
  {
   "metadata": {},
   "cell_type": "code",
   "source": [
    "tier_cities = {\n",
    "    \"Tier 1\": [\"Delhi\", \"Mumbai\", \"Bangalore\", \"Hyderabad\", \"Chennai\"],\n",
    "    \"Tier 2\": [\"Jaipur\", \"Pune\", \"Lucknow\", \"Ahmedabad\", \"Indore\"],\n",
    "    \"Tier 3\": [\"Ranchi\", \"Patna\", \"Bhopal\", \"Kanpur\", \"Guwahati\"]\n",
    "}\n",
    "n = 10000"
   ],
   "id": "415f1586d33fa4d0",
   "outputs": [],
   "execution_count": null
  },
  {
   "metadata": {},
   "cell_type": "code",
   "source": [
    "def generate_pet_user():\n",
    "    # Assign random tier and city\n",
    "    tier = random.choices([\"Tier 1\", \"Tier 2\", \"Tier 3\"], weights=[0.4, 0.35, 0.25])[0]\n",
    "    city = random.choice(tier_cities[tier])\n",
    "\n",
    "    # Tier-specific probabilities and spending\n",
    "    if tier == \"Tier 1\":\n",
    "        pet_owner_prob = 0.2\n",
    "        spend_stats = (2925, 340.22)\n",
    "    elif tier == \"Tier 2\":\n",
    "        pet_owner_prob = 0.1\n",
    "        spend_stats = (2208.33, 142.89)\n",
    "    else:\n",
    "        pet_owner_prob = 0.05\n",
    "        spend_stats = (1875, 93.54)\n",
    "\n",
    "    is_pet_owner = random.choices([1, 0], weights=[pet_owner_prob, 1 - pet_owner_prob])[0]\n",
    "\n",
    "    if is_pet_owner:\n",
    "        pet_type = random.choices(['Dog', 'Cat', 'Rabbit', 'Bird'], weights=[0.5, 0.3, 0.1, 0.1])[0]\n",
    "        monthly_pet_expense = round(np.random.normal(*spend_stats), 2)\n",
    "        vet_visits_last_year = random.choices([0, 1, 2, 3], weights=[0.2, 0.5, 0.2, 0.1])[0]\n",
    "        pet_medical_expense = vet_visits_last_year * random.uniform(800, 3000)\n",
    "        pet_insurance = random.choices([1, 0], weights=[0.3, 0.7])[0]\n",
    "    else:\n",
    "        pet_type = None\n",
    "        monthly_pet_expense = 0.0\n",
    "        vet_visits_last_year = 0\n",
    "        pet_medical_expense = 0.0\n",
    "        pet_insurance = 0\n",
    "\n",
    "    return {\n",
    "        \"name\": fake.name(),\n",
    "        \"city\": city,\n",
    "        \"tier\": tier,\n",
    "        \"is_pet_owner\": is_pet_owner,\n",
    "        \"pet_type\": pet_type,\n",
    "        \"monthly_pet_expense\": monthly_pet_expense,\n",
    "        \"vet_visits_last_year\": vet_visits_last_year,\n",
    "        \"pet_medical_expense\": round(pet_medical_expense, 2),\n",
    "        \"annual_pet_spend\": round(monthly_pet_expense * 12 + pet_medical_expense, 2),\n",
    "        \"has_pet_insurance\": pet_insurance\n",
    "    }"
   ],
   "id": "d366c20021893a56",
   "outputs": [],
   "execution_count": null
  },
  {
   "metadata": {},
   "cell_type": "code",
   "source": "df_pet = pd.DataFrame([generate_pet_user() for _ in range(n)])",
   "id": "6b9c4d908637cef3",
   "outputs": [],
   "execution_count": null
  },
  {
   "metadata": {},
   "cell_type": "code",
   "source": "df_pet",
   "id": "aff799f6a087bb1e",
   "outputs": [],
   "execution_count": null
  },
  {
   "metadata": {},
   "cell_type": "code",
   "source": "df_pet.to_csv(\"Fabricated Data - Pet bills.csv\", index=False)",
   "id": "9ab59581433b36a3",
   "outputs": [],
   "execution_count": null
  },
  {
   "metadata": {},
   "cell_type": "code",
   "source": "",
   "id": "98b72aa1ee9409e8",
   "outputs": [],
   "execution_count": null
  }
 ],
 "metadata": {
  "kernelspec": {
   "display_name": "Python 3",
   "language": "python",
   "name": "python3"
  },
  "language_info": {
   "codemirror_mode": {
    "name": "ipython",
    "version": 2
   },
   "file_extension": ".py",
   "mimetype": "text/x-python",
   "name": "python",
   "nbconvert_exporter": "python",
   "pygments_lexer": "ipython2",
   "version": "2.7.6"
  }
 },
 "nbformat": 4,
 "nbformat_minor": 5
}
